{
 "cells": [
  {
   "cell_type": "markdown",
   "metadata": {},
   "source": [
    "### Singly Linked List"
   ]
  },
  {
   "cell_type": "markdown",
   "metadata": {},
   "source": [
    "Sample Object Oriented Programming in Python"
   ]
  },
  {
   "cell_type": "code",
   "execution_count": 15,
   "metadata": {},
   "outputs": [
    {
     "name": "stdout",
     "output_type": "stream",
     "text": [
      "Enter Student FirstName\n"
     ]
    },
    {
     "name": "stdin",
     "output_type": "stream",
     "text": [
      " Medha\n"
     ]
    },
    {
     "name": "stdout",
     "output_type": "stream",
     "text": [
      "Enter Student LastName\n"
     ]
    },
    {
     "name": "stdin",
     "output_type": "stream",
     "text": [
      " Dutta\n"
     ]
    },
    {
     "name": "stdout",
     "output_type": "stream",
     "text": [
      "The first name is Medha\n",
      "The last name is Dutta\n"
     ]
    }
   ],
   "source": [
    "class Student:\n",
    "    def __init__(self, fname, lname):\n",
    "        self.fname = fname\n",
    "        self.lname = lname\n",
    "    \n",
    "    def getFirstName(self):\n",
    "        return 'The first name is '+str(self.fname)\n",
    "    \n",
    "    def getLastName(self):\n",
    "        return 'The last name is '+str(self.lname)\n",
    "    \n",
    "if __name__ == '__main__':\n",
    "    \n",
    "    print(\"Enter Student FirstName\")\n",
    "    fname = input()\n",
    "    print(\"Enter Student LastName\")\n",
    "    lname = input()\n",
    "    \n",
    "    student = Student(fname, lname)\n",
    "    \n",
    "    print(student.getFirstName())\n",
    "    print(student.getLastName())"
   ]
  },
  {
   "cell_type": "markdown",
   "metadata": {},
   "source": [
    "#### Building and traversing a singly linked list"
   ]
  },
  {
   "cell_type": "code",
   "execution_count": 1,
   "metadata": {},
   "outputs": [
    {
     "name": "stdout",
     "output_type": "stream",
     "text": [
      "zetta\n",
      "alpha\n",
      "beta\n",
      "gamma\n",
      "delta\n"
     ]
    }
   ],
   "source": [
    "class Node:\n",
    "\n",
    "    def __init__(self, val=None):\n",
    "        self.val = val\n",
    "        self.next = None\n",
    "\n",
    "\n",
    "class SinglyLinkedList:\n",
    "\n",
    "    def __init__(self):\n",
    "        self.head = None\n",
    "\n",
    "    def listPrint(self):\n",
    "        traverse_node = self.head\n",
    "        while traverse_node is not None:\n",
    "            print(traverse_node.val)\n",
    "            traverse_node = traverse_node.next\n",
    "\n",
    "    def addAtBeginning(self, string_to_add):\n",
    "        node_at_beg = Node(string_to_add)\n",
    "        node_at_beg.next = self.head\n",
    "        # new reference\n",
    "        self.head = node_at_beg\n",
    "\n",
    "    def addAtEnd(self, string_to_add):\n",
    "        node_at_end = Node(string_to_add)\n",
    "\n",
    "        # Traverse becasue you don't know the last node\n",
    "        traverse_node = self.head\n",
    "        while traverse_node is not None:\n",
    "            if traverse_node.next is None:\n",
    "                last_node = traverse_node\n",
    "            traverse_node = traverse_node.next\n",
    "\n",
    "        last_node.next = node_at_end\n",
    "        \n",
    "    def addInMiddle(self, first_string, second_string, string_to_add):\n",
    "        traverse_node = self.head\n",
    "        while True:\n",
    "            \n",
    "            if traverse_node.val == first_string and traverse_node.next.val == second_string:\n",
    "                new_node = Node(string_to_add)\n",
    "                second_node = traverse_node.next\n",
    "                traverse_node.next = new_node\n",
    "                new_node.next = second_node\n",
    "                break\n",
    "            traverse_node = traverse_node.next\n",
    "            \n",
    "    def deleteNode(self, string_to_be_deleted):\n",
    "        traverse_node = self.head\n",
    "        while True:\n",
    "            if traverse_node.next.val == string_to_be_deleted:\n",
    "                traverse_node.next = traverse_node.next.next\n",
    "                break\n",
    "            \n",
    "            traverse_node = traverse_node.next\n",
    "            \n",
    "    def pop(self):\n",
    "        # Traverse becasue you do not know the last node\n",
    "        \n",
    "        traverse_node = self.head\n",
    "        while True:\n",
    "            if traverse_node.next.next is None:\n",
    "                traverse_node.next = None\n",
    "                break\n",
    "            \n",
    "            traverse_node = traverse_node.next\n",
    "\n",
    "if __name__ == '__main__':\n",
    "    list = SinglyLinkedList()\n",
    "    list.head = Node('alpha')\n",
    "    node1 = Node('beta')\n",
    "    node2 = Node('gamma')\n",
    "    node3 = Node('delta')\n",
    "\n",
    "    # Linking the nodes\n",
    "    list.head.next = node1\n",
    "    node1.next = node2\n",
    "    node2.next = node3\n",
    "\n",
    "    list.addAtBeginning('zetta')\n",
    "    list.addAtEnd('getta')\n",
    "    list.addInMiddle('beta','gamma','sagnik')\n",
    "    list.deleteNode('sagnik')\n",
    "    list.pop()\n",
    "    list.listPrint()"
   ]
  },
  {
   "cell_type": "markdown",
   "metadata": {},
   "source": [
    "#### Building and traversing doubly linked list"
   ]
  },
  {
   "cell_type": "code",
   "execution_count": null,
   "metadata": {},
   "outputs": [],
   "source": [
    "class Node:\n",
    "\n",
    "    def __init__(self, val=None):\n",
    "        self.val = val\n",
    "        self.next = None\n",
    "        self.previous = None\n",
    "\n",
    "\n",
    "class DoublyLinkedList:\n",
    "\n",
    "    def __init__(self):\n",
    "        self.head = None\n",
    "\n",
    "    def listPrint(self):\n",
    "        traverse_node = self.head\n",
    "        while traverse_node is not None:\n",
    "            print(traverse_node.val)\n",
    "            traverse_node = traverse_node.next\n",
    "\n",
    "    def addAtBeginning(self, string_to_add):\n",
    "        node_at_beg = Node(string_to_add)\n",
    "        node_at_beg.next = self.head\n",
    "        node_at_beg.previous = None\n",
    "        self.head.previous = node_at_beg\n",
    "        \n",
    "        # new reference\n",
    "        self.head = node_at_beg\n",
    "\n",
    "    def addAtEnd(self, string_to_add):\n",
    "        node_at_end = Node(string_to_add)\n",
    "\n",
    "        # Traverse becasue you don't know the last node\n",
    "        traverse_node = self.head\n",
    "        while traverse_node is not None:\n",
    "            if traverse_node.next is None:\n",
    "                last_node = traverse_node\n",
    "            traverse_node = traverse_node.next\n",
    "\n",
    "        last_node.next = node_at_end\n",
    "        last_node.next.previous = last_node\n",
    "        \n",
    "    def addInMiddle(self, first_string, second_string, string_to_add):\n",
    "        traverse_node = self.head\n",
    "        while True:\n",
    "            \n",
    "            if traverse_node.val == first_string and traverse_node.next.val == second_string:\n",
    "                new_node = Node(string_to_add)\n",
    "                second_node = traverse_node.next\n",
    "                traverse_node.next = new_node\n",
    "                \n",
    "                #Setting the new node\n",
    "                new_node.previous = traverse_node\n",
    "                new_node.next = second_node\n",
    "                \n",
    "                break\n",
    "            traverse_node = traverse_node.next\n",
    "            \n",
    "    def deleteNode(self, string_to_be_deleted):\n",
    "        traverse_node = self.head\n",
    "        while True:\n",
    "            if traverse_node.next.val == string_to_be_deleted:\n",
    "                traverse_node.next = traverse_node.next.next\n",
    "                traverse_node.next.previous = traverse_node\n",
    "                break\n",
    "            \n",
    "            traverse_node = traverse_node.next\n",
    "            \n",
    "    def pop(self):\n",
    "        # Traverse becasue you do not know the last node\n",
    "        \n",
    "        traverse_node = self.head\n",
    "        while True:\n",
    "            if traverse_node.next.next is None:\n",
    "                traverse_node.next = None\n",
    "                break\n",
    "            \n",
    "            traverse_node = traverse_node.next\n",
    "\n",
    "if __name__ == '__main__':\n",
    "    list = SinglyLinkedList()\n",
    "    list.head = Node('alpha')\n",
    "    node1 = Node('beta')\n",
    "    node2 = Node('gamma')\n",
    "    node3 = Node('delta')\n",
    "\n",
    "    # Linking the nodes\n",
    "    list.head.next = node1\n",
    "    node1.next = node2\n",
    "    node2.next = node3\n",
    "\n",
    "    list.addAtBeginning('zetta')\n",
    "    list.addAtEnd('getta')\n",
    "    list.addInMiddle('beta','gamma','sagnik')\n",
    "    list.deleteNode('sagnik')\n",
    "    list.pop()\n",
    "    list.listPrint()"
   ]
  }
 ],
 "metadata": {
  "kernelspec": {
   "display_name": "Python 3",
   "language": "python",
   "name": "python3"
  },
  "language_info": {
   "codemirror_mode": {
    "name": "ipython",
    "version": 3
   },
   "file_extension": ".py",
   "mimetype": "text/x-python",
   "name": "python",
   "nbconvert_exporter": "python",
   "pygments_lexer": "ipython3",
   "version": "3.7.4"
  }
 },
 "nbformat": 4,
 "nbformat_minor": 4
}
