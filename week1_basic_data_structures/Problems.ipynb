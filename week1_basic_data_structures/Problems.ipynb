{
 "cells": [
  {
   "cell_type": "markdown",
   "metadata": {},
   "source": [
    "### Singly Linked List"
   ]
  },
  {
   "cell_type": "markdown",
   "metadata": {},
   "source": [
    "Sample Object Oriented Programming in Python"
   ]
  },
  {
   "cell_type": "code",
   "execution_count": 15,
   "metadata": {},
   "outputs": [
    {
     "name": "stdout",
     "output_type": "stream",
     "text": [
      "Enter Student FirstName\n"
     ]
    },
    {
     "name": "stdin",
     "output_type": "stream",
     "text": [
      " Medha\n"
     ]
    },
    {
     "name": "stdout",
     "output_type": "stream",
     "text": [
      "Enter Student LastName\n"
     ]
    },
    {
     "name": "stdin",
     "output_type": "stream",
     "text": [
      " Dutta\n"
     ]
    },
    {
     "name": "stdout",
     "output_type": "stream",
     "text": [
      "The first name is Medha\n",
      "The last name is Dutta\n"
     ]
    }
   ],
   "source": [
    "class Student:\n",
    "    def __init__(self, fname, lname):\n",
    "        self.fname = fname\n",
    "        self.lname = lname\n",
    "    \n",
    "    def getFirstName(self):\n",
    "        return 'The first name is '+str(self.fname)\n",
    "    \n",
    "    def getLastName(self):\n",
    "        return 'The last name is '+str(self.lname)\n",
    "    \n",
    "        \n",
    "if __name__ == '__main__':\n",
    "    \n",
    "    print(\"Enter Student FirstName\")\n",
    "    fname = input()\n",
    "    print(\"Enter Student LastName\")\n",
    "    lname = input()\n",
    "    \n",
    "    student = Student(fname, lname)\n",
    "    \n",
    "    print(student.getFirstName())\n",
    "    print(student.getLastName())"
   ]
  },
  {
   "cell_type": "code",
   "execution_count": 14,
   "metadata": {},
   "outputs": [
    {
     "name": "stdout",
     "output_type": "stream",
     "text": [
      "Enter Node 1 value: \n"
     ]
    },
    {
     "name": "stdin",
     "output_type": "stream",
     "text": [
      " 1\n"
     ]
    },
    {
     "name": "stdout",
     "output_type": "stream",
     "text": [
      "Enter Node 1 pointer:\n"
     ]
    },
    {
     "name": "stdin",
     "output_type": "stream",
     "text": [
      " 1000\n"
     ]
    },
    {
     "name": "stdout",
     "output_type": "stream",
     "text": [
      "do you want to enter second node?\n"
     ]
    },
    {
     "name": "stdin",
     "output_type": "stream",
     "text": [
      " yes\n"
     ]
    },
    {
     "name": "stdout",
     "output_type": "stream",
     "text": [
      "Enter Node 2 value: \n"
     ]
    },
    {
     "name": "stdin",
     "output_type": "stream",
     "text": [
      " 2\n"
     ]
    },
    {
     "name": "stdout",
     "output_type": "stream",
     "text": [
      "Enter Node 2 pointer:\n"
     ]
    },
    {
     "name": "stdin",
     "output_type": "stream",
     "text": [
      " 2000\n"
     ]
    },
    {
     "name": "stdout",
     "output_type": "stream",
     "text": [
      "The next pointer is  <__main__.Node object at 0x7fc1c5485b10>\n",
      "1\n",
      "1000\n"
     ]
    }
   ],
   "source": [
    "class Node:\n",
    "    \n",
    "    def __init__(self, value, pointer):\n",
    "        self.value = value\n",
    "        self.pointer = pointer\n",
    "    \n",
    "    def updateNextPointer(self, next_pointer):\n",
    "        self.next_pointer = next_pointer\n",
    "        \n",
    "    def fetchValue(self):\n",
    "        return self.value\n",
    "    \n",
    "    def fetchPointer(self):\n",
    "        return self.pointer\n",
    "    \n",
    "    def returnNextPointer(self):\n",
    "        return self.next_pointer\n",
    "\n",
    "if __name__ == '__main__':\n",
    "    \n",
    "    print('Enter Node 1 value: ')\n",
    "    node1value = int(input())\n",
    "    print('Enter Node 1 pointer:')\n",
    "    node1pointer = int(input())\n",
    "    \n",
    "    node = Node(node1value, node1pointer)\n",
    "    \n",
    "    print('do you want to enter second node?')\n",
    "    ans = str(input())\n",
    "    \n",
    "    if ans == 'yes':\n",
    "        \n",
    "        print('Enter Node 2 value: ')\n",
    "        node2value = int(input())\n",
    "        print('Enter Node 2 pointer:')\n",
    "        node2pointer = int(input())\n",
    "        node2 = Node(node2value, node2pointer)\n",
    "        \n",
    "        node.updateNextPointer(node2)\n",
    "        print('The next pointer is ', node.returnNextPointer())\n",
    "    \n",
    "    print(node.fetchValue())\n",
    "    print(node.fetchPointer())"
   ]
  },
  {
   "cell_type": "markdown",
   "metadata": {},
   "source": [
    "#### Building and traversing a singly linked list"
   ]
  },
  {
   "cell_type": "code",
   "execution_count": 50,
   "metadata": {},
   "outputs": [
    {
     "name": "stdout",
     "output_type": "stream",
     "text": [
      "zetta\n",
      "alpha\n",
      "beta\n",
      "gamma\n",
      "delta\n",
      "getta\n"
     ]
    }
   ],
   "source": [
    "class Node:\n",
    "\n",
    "    def __init__(self, val=None):\n",
    "        self.val = val\n",
    "        self.pointer = None\n",
    "\n",
    "\n",
    "class SinglyLinkedList:\n",
    "\n",
    "    def __init__(self):\n",
    "        self.head = None\n",
    "\n",
    "    def listPrint(self):\n",
    "        traverse_node = self.head\n",
    "        while traverse_node is not None:\n",
    "            print(traverse_node.val)\n",
    "            traverse_node = traverse_node.pointer\n",
    "\n",
    "    def addAtBeginning(self, string_to_add):\n",
    "        node_at_beg = Node(string_to_add)\n",
    "        node_at_beg.pointer = self.head\n",
    "        # new reference\n",
    "        self.head = node_at_beg\n",
    "\n",
    "    def addAtEnd(self, string_to_add):\n",
    "        node_at_end = Node(string_to_add)\n",
    "\n",
    "        # Traverse becasue you don't know the last node\n",
    "        traverse_node = self.head\n",
    "        while traverse_node is not None:\n",
    "            if traverse_node.pointer is None:\n",
    "                last_node = traverse_node\n",
    "            traverse_node = traverse_node.pointer\n",
    "\n",
    "        last_node.pointer = node_at_end\n",
    "        \n",
    "    def addInMiddle(self, first_string, second_string, string_to_add):\n",
    "        traverse_node = self.head\n",
    "        while True:\n",
    "            \n",
    "            if traverse_node.val == first_string and traverse_node.pointer.val == second_string:\n",
    "                new_node = Node(string_to_add)\n",
    "                second_node = traverse_node.pointer\n",
    "                traverse_node.pointer = new_node\n",
    "                new_node.pointer = second_node\n",
    "                break\n",
    "            traverse_node = traverse_node.pointer\n",
    "            \n",
    "    def deleteNode(self, string_to_be_deleted):\n",
    "        traverse_node = self.head\n",
    "        while True:\n",
    "            if traverse_node.pointer.val == string_to_be_deleted:\n",
    "                traverse_node.pointer = traverse_node.pointer.pointer\n",
    "                break\n",
    "            \n",
    "            traverse_node = traverse_node.pointer\n",
    "\n",
    "if __name__ == '__main__':\n",
    "    list = SinglyLinkedList()\n",
    "    list.head = Node('alpha')\n",
    "    node1 = Node('beta')\n",
    "    node2 = Node('gamma')\n",
    "    node3 = Node('delta')\n",
    "\n",
    "    # Linking the nodes\n",
    "    list.head.pointer = node1\n",
    "    node1.pointer = node2\n",
    "    node2.pointer = node3\n",
    "\n",
    "    list.addAtBeginning('zetta')\n",
    "    list.addAtEnd('getta')\n",
    "    list.addInMiddle('beta','gamma','sagnik')\n",
    "    list.deleteNode('sagnik')\n",
    "    list.listPrint()"
   ]
  },
  {
   "cell_type": "markdown",
   "metadata": {},
   "source": [
    "#### Traversing a singly linked list"
   ]
  },
  {
   "cell_type": "code",
   "execution_count": null,
   "metadata": {},
   "outputs": [],
   "source": []
  }
 ],
 "metadata": {
  "kernelspec": {
   "display_name": "Python 3",
   "language": "python",
   "name": "python3"
  },
  "language_info": {
   "codemirror_mode": {
    "name": "ipython",
    "version": 3
   },
   "file_extension": ".py",
   "mimetype": "text/x-python",
   "name": "python",
   "nbconvert_exporter": "python",
   "pygments_lexer": "ipython3",
   "version": "3.7.4"
  }
 },
 "nbformat": 4,
 "nbformat_minor": 4
}
