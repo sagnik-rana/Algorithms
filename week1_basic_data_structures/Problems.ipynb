{
 "cells": [
  {
   "cell_type": "markdown",
   "metadata": {},
   "source": [
    "### Singly Linked List"
   ]
  },
  {
   "cell_type": "markdown",
   "metadata": {},
   "source": [
    "Sample Object Oriented Programming in Python"
   ]
  },
  {
   "cell_type": "code",
   "execution_count": 12,
   "metadata": {},
   "outputs": [
    {
     "name": "stdout",
     "output_type": "stream",
     "text": [
      "Enter Student FirstName\n"
     ]
    },
    {
     "name": "stdin",
     "output_type": "stream",
     "text": [
      " Sagnik\n"
     ]
    },
    {
     "name": "stdout",
     "output_type": "stream",
     "text": [
      "Enter Student LastName\n"
     ]
    },
    {
     "name": "stdin",
     "output_type": "stream",
     "text": [
      " Rana\n"
     ]
    },
    {
     "name": "stdout",
     "output_type": "stream",
     "text": [
      "The first name is Sagnik\n",
      "The last name is Rana\n"
     ]
    }
   ],
   "source": [
    "class Student:\n",
    "    def __init__(self, fname, lname):\n",
    "        self.fname = fname\n",
    "        self.lname = lname\n",
    "    \n",
    "    def getFirstName(self):\n",
    "        return 'The first name is '+str(self.fname)\n",
    "    \n",
    "    def getLastName(self):\n",
    "        return 'The last name is '+str(self.lname)\n",
    "    \n",
    "        \n",
    "if __name__ == '__main__':\n",
    "    \n",
    "    print(\"Enter Student FirstName\")\n",
    "    fname = input()\n",
    "    print(\"Enter Student LastName\")\n",
    "    lname = input()\n",
    "    \n",
    "    student = Student(fname, lname)\n",
    "    \n",
    "    print(student.getFirstName())\n",
    "    print(student.getLastName())"
   ]
  },
  {
   "cell_type": "code",
   "execution_count": 14,
   "metadata": {},
   "outputs": [
    {
     "name": "stdout",
     "output_type": "stream",
     "text": [
      "Enter Node 1 value: \n"
     ]
    },
    {
     "name": "stdin",
     "output_type": "stream",
     "text": [
      " 1\n"
     ]
    },
    {
     "name": "stdout",
     "output_type": "stream",
     "text": [
      "Enter Node 1 pointer:\n"
     ]
    },
    {
     "name": "stdin",
     "output_type": "stream",
     "text": [
      " 1000\n"
     ]
    },
    {
     "name": "stdout",
     "output_type": "stream",
     "text": [
      "do you want to enter second node?\n"
     ]
    },
    {
     "name": "stdin",
     "output_type": "stream",
     "text": [
      " yes\n"
     ]
    },
    {
     "name": "stdout",
     "output_type": "stream",
     "text": [
      "Enter Node 2 value: \n"
     ]
    },
    {
     "name": "stdin",
     "output_type": "stream",
     "text": [
      " 2\n"
     ]
    },
    {
     "name": "stdout",
     "output_type": "stream",
     "text": [
      "Enter Node 2 pointer:\n"
     ]
    },
    {
     "name": "stdin",
     "output_type": "stream",
     "text": [
      " 2000\n"
     ]
    },
    {
     "name": "stdout",
     "output_type": "stream",
     "text": [
      "The next pointer is  <__main__.Node object at 0x7fc1c5485b10>\n",
      "1\n",
      "1000\n"
     ]
    }
   ],
   "source": [
    "class Node:\n",
    "    \n",
    "    def __init__(self, value, pointer):\n",
    "        self.value = value\n",
    "        self.pointer = pointer\n",
    "    \n",
    "    def updateNextPointer(self, next_pointer):\n",
    "        self.next_pointer = next_pointer\n",
    "        \n",
    "    def fetchValue(self):\n",
    "        return self.value\n",
    "    \n",
    "    def fetchPointer(self):\n",
    "        return self.pointer\n",
    "    \n",
    "    def returnNextPointer(self):\n",
    "        return self.next_pointer\n",
    "\n",
    "if __name__ == '__main__':\n",
    "    \n",
    "    print('Enter Node 1 value: ')\n",
    "    node1value = int(input())\n",
    "    print('Enter Node 1 pointer:')\n",
    "    node1pointer = int(input())\n",
    "    \n",
    "    node = Node(node1value, node1pointer)\n",
    "    \n",
    "    print('do you want to enter second node?')\n",
    "    ans = str(input())\n",
    "    \n",
    "    if ans == 'yes':\n",
    "        \n",
    "        print('Enter Node 2 value: ')\n",
    "        node2value = int(input())\n",
    "        print('Enter Node 2 pointer:')\n",
    "        node2pointer = int(input())\n",
    "        node2 = Node(node2value, node2pointer)\n",
    "        \n",
    "        node.updateNextPointer(node2)\n",
    "        print('The next pointer is ', node.returnNextPointer())\n",
    "    \n",
    "    print(node.fetchValue())\n",
    "    print(node.fetchPointer())"
   ]
  },
  {
   "cell_type": "code",
   "execution_count": null,
   "metadata": {},
   "outputs": [],
   "source": []
  }
 ],
 "metadata": {
  "kernelspec": {
   "display_name": "Python 3",
   "language": "python",
   "name": "python3"
  },
  "language_info": {
   "codemirror_mode": {
    "name": "ipython",
    "version": 3
   },
   "file_extension": ".py",
   "mimetype": "text/x-python",
   "name": "python",
   "nbconvert_exporter": "python",
   "pygments_lexer": "ipython3",
   "version": "3.7.4"
  }
 },
 "nbformat": 4,
 "nbformat_minor": 4
}
