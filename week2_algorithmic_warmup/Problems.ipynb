{
 "cells": [
  {
   "cell_type": "markdown",
   "metadata": {},
   "source": [
    "### Problem 1 - Fibonacci number"
   ]
  },
  {
   "cell_type": "code",
   "execution_count": 10,
   "metadata": {},
   "outputs": [
    {
     "name": "stdin",
     "output_type": "stream",
     "text": [
      " 3\n"
     ]
    },
    {
     "name": "stdout",
     "output_type": "stream",
     "text": [
      "2\n"
     ]
    }
   ],
   "source": [
    "# Uses python3\n",
    "def calc_fib(n):\n",
    "    if (n <= 1):\n",
    "        return n\n",
    "\n",
    "    return calc_fib(n - 1) + calc_fib(n - 2)\n",
    "\n",
    "n = int(input())\n",
    "print(calc_fib(n))"
   ]
  },
  {
   "cell_type": "markdown",
   "metadata": {},
   "source": [
    "### Problem 2 - Last digit of a fibonacci number"
   ]
  },
  {
   "cell_type": "code",
   "execution_count": 1,
   "metadata": {},
   "outputs": [
    {
     "name": "stdin",
     "output_type": "stream",
     "text": [
      " 5\n"
     ]
    },
    {
     "name": "stdout",
     "output_type": "stream",
     "text": [
      "5\n"
     ]
    }
   ],
   "source": [
    "# Uses python3\n",
    "import sys\n",
    "\n",
    "def get_fibonacci_last_digit_naive(n):\n",
    "    if n <= 1:\n",
    "        return n\n",
    "\n",
    "    previous = 0\n",
    "    current  = 1\n",
    "\n",
    "    for _ in range(n - 1):\n",
    "        previous, current = current, previous + current\n",
    "\n",
    "    return current%10\n",
    "\n",
    "def get_fibonacci_fast(n):\n",
    "    if n <= 1:\n",
    "        return n\n",
    "\n",
    "    previous = 0\n",
    "    current  = 1\n",
    "\n",
    "    for _ in range(n - 1):\n",
    "        previous, current = current, previous + current\n",
    "\n",
    "    return current\n",
    "\n",
    "if __name__ == '__main__':\n",
    "    n = int(input())\n",
    "    print(get_fibonacci_last_digit_naive(n))\n"
   ]
  },
  {
   "cell_type": "markdown",
   "metadata": {},
   "source": [
    "### Problem 3 - GCD"
   ]
  },
  {
   "cell_type": "code",
   "execution_count": 53,
   "metadata": {},
   "outputs": [
    {
     "name": "stdin",
     "output_type": "stream",
     "text": [
      " 28851538 1183019\n"
     ]
    },
    {
     "name": "stdout",
     "output_type": "stream",
     "text": [
      "17657\n"
     ]
    }
   ],
   "source": [
    "# Uses python3\n",
    "import sys\n",
    "\n",
    "def gcd_naive(a, b):\n",
    "    current_gcd = 1\n",
    "    for d in range(2, min(a, b) + 1):\n",
    "        if a % d == 0 and b % d == 0:\n",
    "            if d > current_gcd:\n",
    "                current_gcd = d\n",
    "\n",
    "    return current_gcd\n",
    "\n",
    "def find_greater_smaller(operation,x,y):\n",
    "    if operation == 'smaller':\n",
    "        if x<y:\n",
    "            return x\n",
    "        else:\n",
    "            return y\n",
    "    elif operation == 'bigger':\n",
    "        if x>y:\n",
    "            return x\n",
    "        else:\n",
    "            return y\n",
    "    else:\n",
    "        return 0\n",
    "\n",
    "def gcd_fast(a, b):\n",
    "    if a % b == 0 or b % a == 0:\n",
    "        return find_greater_smaller('smaller', a, b)\n",
    "    else:\n",
    "        while (True):\n",
    "            a = find_greater_smaller('bigger', a, b)\n",
    "            b = find_greater_smaller('smaller', a, b)\n",
    "            remainder = a % b\n",
    "            if remainder == 0:\n",
    "                return b\n",
    "            elif remainder == a:\n",
    "                return b\n",
    "        \n",
    "\n",
    "if __name__ == \"__main__\":\n",
    "#     input = sys.stdin.read()\n",
    "    input_from_user = input()\n",
    "    a, b = map(int, input_from_user.split())\n",
    "    print(gcd_naive(a, b))\n",
    "    \n"
   ]
  },
  {
   "cell_type": "markdown",
   "metadata": {},
   "source": [
    "### Problem 5 - Fibonacci number again"
   ]
  },
  {
   "cell_type": "code",
   "execution_count": 52,
   "metadata": {},
   "outputs": [
    {
     "name": "stdin",
     "output_type": "stream",
     "text": [
      " 2816213588 239\n"
     ]
    },
    {
     "name": "stdout",
     "output_type": "stream",
     "text": [
      "151\n"
     ]
    }
   ],
   "source": [
    "# Uses python3\n",
    "import sys\n",
    "\n",
    "global index\n",
    "index = 0\n",
    "def get_fibonacci_huge_naive(n, m):\n",
    "    if n <= 1:\n",
    "        return n\n",
    "\n",
    "    previous = 0\n",
    "    current  = 1\n",
    "\n",
    "    for _ in range(n - 1):\n",
    "        previous, current = current, previous + current\n",
    "\n",
    "    return current % m\n",
    "\n",
    "def get_fibonacci_fast(n):\n",
    "    if n <= 1:\n",
    "        return n\n",
    "\n",
    "    previous = 0\n",
    "    current  = 1\n",
    "\n",
    "    for _ in range(n - 1):\n",
    "        previous, current = current, previous + current\n",
    "\n",
    "    return current\n",
    "\n",
    "def find_pisano_period_occurence(mod_list):\n",
    "    found_occurence_counter = 0\n",
    "    for index in range(2,len(mod_list)):\n",
    "        found_occurence_counter = found_occurence_counter + 1\n",
    "        if mod_list[index] == 0:\n",
    "            if mod_list[index+1] == 1 and mod_list[index+2] == 1:\n",
    "                break\n",
    "    \n",
    "    if found_occurence_counter == len(mod_list) - 2:\n",
    "        return 0\n",
    "    else:\n",
    "        return index\n",
    "\n",
    "def find_occurence(m):\n",
    "    mod_list = list()\n",
    "    n = 0\n",
    "    n1 = 1000\n",
    "    \n",
    "    while(True):\n",
    "        fibonacci_index = [i for i in range(n, n1)]\n",
    "        mod_list.clear()\n",
    "        for index in fibonacci_index:\n",
    "            mod_list.append(get_fibonacci_fast(index)%m)\n",
    "\n",
    "        if find_pisano_period_occurence(mod_list) == 0:\n",
    "            n, n1 = n1, n1 + 1000\n",
    "        else:\n",
    "            index = n + find_pisano_period_occurence(mod_list)\n",
    "            return index\n",
    "        \n",
    "def get_fibonacci_huge_fast(n, m):\n",
    "    pisano_period_occurence = find_occurence(m)\n",
    "    return get_fibonacci_fast(n%pisano_period_occurence)%m\n",
    "\n",
    "if __name__ == '__main__':\n",
    "    input_text = input()\n",
    "    n, m = map(int, input_text.split())\n",
    "    print(get_fibonacci_huge_fast(n, m))"
   ]
  }
 ],
 "metadata": {
  "kernelspec": {
   "display_name": "Python 3",
   "language": "python",
   "name": "python3"
  },
  "language_info": {
   "codemirror_mode": {
    "name": "ipython",
    "version": 3
   },
   "file_extension": ".py",
   "mimetype": "text/x-python",
   "name": "python",
   "nbconvert_exporter": "python",
   "pygments_lexer": "ipython3",
   "version": "3.7.4"
  }
 },
 "nbformat": 4,
 "nbformat_minor": 4
}
