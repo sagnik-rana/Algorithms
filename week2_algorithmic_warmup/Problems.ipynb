{
 "cells": [
  {
   "cell_type": "markdown",
   "metadata": {},
   "source": [
    "### Problem 1 - Fibonacci number"
   ]
  },
  {
   "cell_type": "code",
   "execution_count": 10,
   "metadata": {},
   "outputs": [
    {
     "name": "stdin",
     "output_type": "stream",
     "text": [
      " 3\n"
     ]
    },
    {
     "name": "stdout",
     "output_type": "stream",
     "text": [
      "2\n"
     ]
    }
   ],
   "source": [
    "# Uses python3\n",
    "def calc_fib(n):\n",
    "    if (n <= 1):\n",
    "        return n\n",
    "\n",
    "    return calc_fib(n - 1) + calc_fib(n - 2)\n",
    "\n",
    "n = int(input())\n",
    "print(calc_fib(n))"
   ]
  },
  {
   "cell_type": "markdown",
   "metadata": {},
   "source": [
    "### Problem 2 - Last digit of a fibonacci number"
   ]
  },
  {
   "cell_type": "code",
   "execution_count": 13,
   "metadata": {},
   "outputs": [
    {
     "name": "stdin",
     "output_type": "stream",
     "text": [
      " 40\n"
     ]
    },
    {
     "name": "stdout",
     "output_type": "stream",
     "text": [
      "102334155\n"
     ]
    }
   ],
   "source": [
    "# Uses python3\n",
    "import sys\n",
    "\n",
    "def get_fibonacci_last_digit_naive(n):\n",
    "    if n <= 1:\n",
    "        return n\n",
    "\n",
    "    previous = 0\n",
    "    current  = 1\n",
    "\n",
    "    for _ in range(n - 1):\n",
    "        previous, current = current, previous + current\n",
    "\n",
    "    return current\n",
    "\n",
    "if __name__ == '__main__':\n",
    "    n = int(input())\n",
    "    print(get_fibonacci_last_digit_naive(n))\n"
   ]
  },
  {
   "cell_type": "markdown",
   "metadata": {},
   "source": [
    "### Problem 3 - GCD"
   ]
  },
  {
   "cell_type": "code",
   "execution_count": 36,
   "metadata": {},
   "outputs": [
    {
     "name": "stdin",
     "output_type": "stream",
     "text": [
      " 12 8\n"
     ]
    },
    {
     "name": "stdout",
     "output_type": "stream",
     "text": [
      "4\n"
     ]
    }
   ],
   "source": [
    "# Uses python3\n",
    "import sys\n",
    "\n",
    "def gcd_naive(a, b):\n",
    "    current_gcd = 1\n",
    "    for d in range(2, min(a, b) + 1):\n",
    "        if a % d == 0 and b % d == 0:\n",
    "            if d > current_gcd:\n",
    "                current_gcd = d\n",
    "\n",
    "    return current_gcd\n",
    "\n",
    "def find_greater_smaller(operation,x,y):\n",
    "    if operation == 'smaller':\n",
    "        if x<y:\n",
    "            return x\n",
    "        else:\n",
    "            return y\n",
    "    elif operation == 'bigger':\n",
    "        if x>y:\n",
    "            return x\n",
    "        else:\n",
    "            return y\n",
    "    else:\n",
    "        return 0\n",
    "\n",
    "def gcd_fast(a, b):\n",
    "    flag = True\n",
    "    if a % b == 0 or b % a == 0:\n",
    "        return find_greater_smaller('smaller', a, b)\n",
    "    else:\n",
    "        while (flag):\n",
    "            a = find_greater_smaller('bigger', a, b)\n",
    "            b = find_greater_smaller('smaller', a, b)\n",
    "            remainder = a % b\n",
    "            if remainder == b:\n",
    "                return a\n",
    "            elif remainder == 0:\n",
    "                return b\n",
    "            else:\n",
    "                b = remainder\n",
    "        \n",
    "\n",
    "if __name__ == \"__main__\":\n",
    "#     input = sys.stdin.read()\n",
    "    input_from_user = input()\n",
    "    a, b = map(int, input_from_user.split())\n",
    "    print(gcd_fast(a, b))\n",
    "    \n"
   ]
  },
  {
   "cell_type": "code",
   "execution_count": 26,
   "metadata": {},
   "outputs": [
    {
     "data": {
      "text/plain": [
       "19"
      ]
     },
     "execution_count": 26,
     "metadata": {},
     "output_type": "execute_result"
    }
   ],
   "source": [
    "\n",
    "def find_greater_smaller(operation,x,y):\n",
    "    if operation == 'smaller':\n",
    "        if x<y:\n",
    "            return x\n",
    "        else:\n",
    "            return y\n",
    "    elif operation == 'bigger':\n",
    "        if x>y:\n",
    "            return x\n",
    "        else:\n",
    "            return y\n",
    "        \n",
    "find_greater_smaller('smaller',19,20)"
   ]
  },
  {
   "cell_type": "code",
   "execution_count": null,
   "metadata": {},
   "outputs": [],
   "source": []
  }
 ],
 "metadata": {
  "kernelspec": {
   "display_name": "Python 3",
   "language": "python",
   "name": "python3"
  },
  "language_info": {
   "codemirror_mode": {
    "name": "ipython",
    "version": 3
   },
   "file_extension": ".py",
   "mimetype": "text/x-python",
   "name": "python",
   "nbconvert_exporter": "python",
   "pygments_lexer": "ipython3",
   "version": "3.7.4"
  }
 },
 "nbformat": 4,
 "nbformat_minor": 4
}
