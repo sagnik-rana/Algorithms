{
 "cells": [
  {
   "cell_type": "markdown",
   "metadata": {},
   "source": [
    "### Problem - 1 Money Change"
   ]
  },
  {
   "cell_type": "code",
   "execution_count": 19,
   "metadata": {},
   "outputs": [
    {
     "name": "stdin",
     "output_type": "stream",
     "text": [
      " 26\n"
     ]
    },
    {
     "name": "stdout",
     "output_type": "stream",
     "text": [
      "4\n"
     ]
    }
   ],
   "source": [
    "# Uses python3\n",
    "import sys\n",
    "\n",
    "def get_change(m):\n",
    "    #write your code here\n",
    "    total_changes = 0\n",
    "    change_list = [10,5,1]\n",
    "    for change in change_list:\n",
    "        quot = m//change\n",
    "        if quot == 0:\n",
    "            continue\n",
    "        else:\n",
    "            total_changes = total_changes + quot\n",
    "            m = m - (change * quot)\n",
    "    return total_changes\n",
    "\n",
    "if __name__ == '__main__':\n",
    "#     m = int(sys.stdin.read())\n",
    "    m = int(input())\n",
    "    print(get_change(m))"
   ]
  },
  {
   "cell_type": "markdown",
   "metadata": {},
   "source": [
    "### Problem - 2 Maximum Value of the Loot (Fractional Knapsack)"
   ]
  },
  {
   "cell_type": "code",
   "execution_count": 26,
   "metadata": {},
   "outputs": [
    {
     "name": "stdin",
     "output_type": "stream",
     "text": [
      " 1 10 500 30\n"
     ]
    },
    {
     "name": "stdout",
     "output_type": "stream",
     "text": [
      "166.6667\n"
     ]
    }
   ],
   "source": [
    "# Uses python3\n",
    "import sys\n",
    "import operator\n",
    "\n",
    "def get_optimal_value(capacity, weights, values):\n",
    "    capacity_left = capacity\n",
    "    optimal_value = 0\n",
    "    per_unit_value = {}\n",
    "    for index, value in enumerate(values):\n",
    "        per_unit_value[weights[index]] = value/weights[index]\n",
    "\n",
    "    # Sorting the dictionary by the value per weight\n",
    "    per_unit_value = {k: v for k, v in sorted(per_unit_value.items(), key=lambda item: item[1], reverse = True)}\n",
    "\n",
    "    for weight in per_unit_value.keys():\n",
    "        if (capacity_left - weight) >= 0:\n",
    "            optimal_value = optimal_value + (per_unit_value[weight] * weight)\n",
    "            capacity_left = capacity_left - weight\n",
    "        else:\n",
    "            optimal_value = optimal_value + (per_unit_value[weight] * capacity_left)\n",
    "            capacity_left = capacity_left - capacity_left\n",
    "            \n",
    "    return optimal_value\n",
    "\n",
    "\n",
    "if __name__ == \"__main__\":\n",
    "#     data = list(map(int, sys.stdin.read().split()))\n",
    "    data = list(map(int, input().split()))\n",
    "    n, capacity = data[0:2]\n",
    "    values = data[2:(2 * n + 2):2]\n",
    "    weights = data[3:(2 * n + 2):2]\n",
    "    opt_value = get_optimal_value(capacity, weights, values)\n",
    "    print(\"{:.4f}\".format(opt_value))"
   ]
  },
  {
   "cell_type": "markdown",
   "metadata": {},
   "source": [
    "### Problem - 3 Car Fueling"
   ]
  },
  {
   "cell_type": "code",
   "execution_count": 36,
   "metadata": {},
   "outputs": [
    {
     "name": "stdin",
     "output_type": "stream",
     "text": [
      " 200 250 2 100 150\n"
     ]
    },
    {
     "name": "stdout",
     "output_type": "stream",
     "text": [
      "0\n"
     ]
    }
   ],
   "source": [
    "# python3\n",
    "import sys\n",
    "\n",
    "def compute_min_refills(distance, tank, stops):\n",
    "    # write your code here\n",
    "    running_tank = tank\n",
    "    refills = 0\n",
    "    car_index = 0\n",
    "    stops.append(distance)\n",
    "    check_diff = 0\n",
    "    diff_list = list()\n",
    "    \n",
    "    for index, stop in enumerate(stops):\n",
    "        if index == len(stops) - 1:\n",
    "            break\n",
    "        if (stops[index+1] - stop) > tank:\n",
    "            return -1\n",
    "    \n",
    "    for index, stop in enumerate(stops):\n",
    "        dist_left = running_tank - stop\n",
    "        if dist_left < 0:\n",
    "            refills = refills + 1\n",
    "            running_tank = running_tank  + tank\n",
    "            \n",
    "    return refills\n",
    "\n",
    "if __name__ == '__main__':\n",
    "    d, m, _, *stops = map(int, sys.stdin.read().split())\n",
    "#     d, m, _, *stops = map(int, input().split())\n",
    "    print(compute_min_refills(d, m, stops))"
   ]
  },
  {
   "cell_type": "markdown",
   "metadata": {},
   "source": [
    "### Problem - 4 Maximum Advertising Revenue"
   ]
  },
  {
   "cell_type": "code",
   "execution_count": 13,
   "metadata": {},
   "outputs": [
    {
     "name": "stdin",
     "output_type": "stream",
     "text": [
      " 1 23 39\n"
     ]
    },
    {
     "name": "stdout",
     "output_type": "stream",
     "text": [
      "897\n"
     ]
    }
   ],
   "source": [
    "#Uses python3\n",
    "\n",
    "import sys\n",
    "\n",
    "def max_dot_product(a, b):\n",
    "    #write your code here\n",
    "    revenue = 0\n",
    "\n",
    "    for _ in range(len(a)):\n",
    "        max_cost = max(a)\n",
    "        max_click = max(b)\n",
    "        revenue = revenue + (max_cost * max_click)\n",
    "        del a[a.index(max_cost)]\n",
    "        del b[b.index(max_click)]\n",
    "    return revenue\n",
    "        \n",
    "\n",
    "if __name__ == '__main__':\n",
    "#     input = sys.stdin.read()\n",
    "    data = list(map(int, input().split()))\n",
    "    n = data[0]\n",
    "    a = data[1:(n + 1)]\n",
    "    b = data[(n + 1):]\n",
    "    print(max_dot_product(a, b))\n",
    "     "
   ]
  },
  {
   "cell_type": "markdown",
   "metadata": {},
   "source": [
    "### Problem - 5 Collecting Signatures"
   ]
  },
  {
   "cell_type": "code",
   "execution_count": 2,
   "metadata": {},
   "outputs": [
    {
     "name": "stdout",
     "output_type": "stream",
     "text": [
      "out_iundex 0\n",
      "in_index 0\n"
     ]
    },
    {
     "ename": "IndexError",
     "evalue": "list index out of range",
     "output_type": "error",
     "traceback": [
      "\u001b[0;31m---------------------------------------------------------------------------\u001b[0m",
      "\u001b[0;31mIndexError\u001b[0m                                Traceback (most recent call last)",
      "\u001b[0;32m<ipython-input-2-c3bc2ab0072b>\u001b[0m in \u001b[0;36m<module>\u001b[0;34m\u001b[0m\n\u001b[1;32m     11\u001b[0m     \u001b[0mcomp_end_time\u001b[0m \u001b[0;34m=\u001b[0m \u001b[0mstart\u001b[0m\u001b[0;34m\u001b[0m\u001b[0;34m\u001b[0m\u001b[0m\n\u001b[1;32m     12\u001b[0m     \u001b[0mprint\u001b[0m\u001b[0;34m(\u001b[0m\u001b[0;34m'out_iundex'\u001b[0m\u001b[0;34m,\u001b[0m \u001b[0mindex\u001b[0m\u001b[0;34m)\u001b[0m\u001b[0;34m\u001b[0m\u001b[0;34m\u001b[0m\u001b[0m\n\u001b[0;32m---> 13\u001b[0;31m     \u001b[0;32mwhile\u001b[0m\u001b[0;34m(\u001b[0m\u001b[0mcomp_end_time\u001b[0m \u001b[0;34m<\u001b[0m \u001b[0mends\u001b[0m\u001b[0;34m[\u001b[0m\u001b[0mindex\u001b[0m\u001b[0;34m+\u001b[0m\u001b[0;36m1\u001b[0m\u001b[0;34m]\u001b[0m\u001b[0;34m)\u001b[0m\u001b[0;34m:\u001b[0m\u001b[0;34m\u001b[0m\u001b[0;34m\u001b[0m\u001b[0m\n\u001b[0m\u001b[1;32m     14\u001b[0m         \u001b[0mprint\u001b[0m\u001b[0;34m(\u001b[0m\u001b[0;34m'in_index'\u001b[0m\u001b[0;34m,\u001b[0m \u001b[0mindex\u001b[0m\u001b[0;34m)\u001b[0m\u001b[0;34m\u001b[0m\u001b[0;34m\u001b[0m\u001b[0m\n\u001b[1;32m     15\u001b[0m         \u001b[0;32mdel\u001b[0m \u001b[0mstarts\u001b[0m\u001b[0;34m[\u001b[0m\u001b[0mindex\u001b[0m\u001b[0;34m+\u001b[0m\u001b[0;36m1\u001b[0m\u001b[0;34m]\u001b[0m\u001b[0;34m\u001b[0m\u001b[0;34m\u001b[0m\u001b[0m\n",
      "\u001b[0;31mIndexError\u001b[0m: list index out of range"
     ]
    }
   ],
   "source": [
    "a = {}\n",
    "a[1] = 3\n",
    "a[2] = 5\n",
    "a[3] = 2\n",
    "a[4] = 7\n",
    "a[5] = 6\n",
    "a[7] = 1\n",
    "starts = [1,2,3,4,5]\n",
    "ends = [7,8,9]\n",
    "for index, start in enumerate(starts):\n",
    "    comp_end_time = start\n",
    "    print('out_iundex', index)\n",
    "    while(comp_end_time < ends[index+1]):\n",
    "        print('in_index', index)\n",
    "        del starts[index+1]\n",
    "        del ends[index+1]\n",
    "        index = index+1"
   ]
  },
  {
   "cell_type": "code",
   "execution_count": 5,
   "metadata": {},
   "outputs": [
    {
     "name": "stdin",
     "output_type": "stream",
     "text": [
      " 4 4 7 1 3 2 5 5 6\n"
     ]
    },
    {
     "name": "stdout",
     "output_type": "stream",
     "text": [
      "{1: 3, 2: 5, 3: 2, 4: 7, 5: 6, 7: 1}\n"
     ]
    },
    {
     "ename": "TypeError",
     "evalue": "object of type 'NoneType' has no len()",
     "output_type": "error",
     "traceback": [
      "\u001b[0;31m---------------------------------------------------------------------------\u001b[0m",
      "\u001b[0;31mTypeError\u001b[0m                                 Traceback (most recent call last)",
      "\u001b[0;32m<ipython-input-5-a7d9dc648d85>\u001b[0m in \u001b[0;36m<module>\u001b[0;34m\u001b[0m\n\u001b[1;32m     14\u001b[0m \u001b[0;31m#     input = sys.stdin.read()\u001b[0m\u001b[0;34m\u001b[0m\u001b[0;34m\u001b[0m\u001b[0;34m\u001b[0m\u001b[0m\n\u001b[1;32m     15\u001b[0m     \u001b[0mn\u001b[0m\u001b[0;34m,\u001b[0m \u001b[0;34m*\u001b[0m\u001b[0mdata\u001b[0m \u001b[0;34m=\u001b[0m \u001b[0mmap\u001b[0m\u001b[0;34m(\u001b[0m\u001b[0mint\u001b[0m\u001b[0;34m,\u001b[0m \u001b[0minput\u001b[0m\u001b[0;34m(\u001b[0m\u001b[0;34m)\u001b[0m\u001b[0;34m.\u001b[0m\u001b[0msplit\u001b[0m\u001b[0;34m(\u001b[0m\u001b[0;34m)\u001b[0m\u001b[0;34m)\u001b[0m\u001b[0;34m\u001b[0m\u001b[0;34m\u001b[0m\u001b[0m\n\u001b[0;32m---> 16\u001b[0;31m     \u001b[0mprint\u001b[0m\u001b[0;34m(\u001b[0m\u001b[0mlen\u001b[0m\u001b[0;34m(\u001b[0m\u001b[0moptimal_points\u001b[0m\u001b[0;34m(\u001b[0m\u001b[0mdata\u001b[0m\u001b[0;34m)\u001b[0m\u001b[0;34m)\u001b[0m\u001b[0;34m)\u001b[0m\u001b[0;34m\u001b[0m\u001b[0;34m\u001b[0m\u001b[0m\n\u001b[0m\u001b[1;32m     17\u001b[0m     \u001b[0mprint\u001b[0m\u001b[0;34m(\u001b[0m\u001b[0moptimal_points\u001b[0m\u001b[0;34m(\u001b[0m\u001b[0msegments\u001b[0m\u001b[0;34m)\u001b[0m\u001b[0;34m)\u001b[0m\u001b[0;34m\u001b[0m\u001b[0;34m\u001b[0m\u001b[0m\n",
      "\u001b[0;31mTypeError\u001b[0m: object of type 'NoneType' has no len()"
     ]
    }
   ],
   "source": [
    "# Uses python3\n",
    "import sys\n",
    "\n",
    "def optimal_points(segments):\n",
    "    time_dict = {}\n",
    "    time_results = []\n",
    "    \n",
    "    for index, time in enumerate(segments):\n",
    "        if index == len(segments) - 1:\n",
    "            break\n",
    "        time_dict[time] = segments[index+1]\n",
    "    # Sorting the dictionary    \n",
    "    time_dict = {k: v for k, v in sorted(time_dict.items(), key=lambda item: item[0])}\n",
    "    \n",
    "    move_next = 0\n",
    "    change_end = False\n",
    "    starts = time_dict.keys()\n",
    "    ends   = time_dict.values()\n",
    "    \n",
    "    for index, start in enumerate(starts):\n",
    "        comp_end_time = start\n",
    "        \n",
    "        in_index = index\n",
    "        while(comp_end_time > ends[in_index+1]):\n",
    "            del starts[in_index+1]\n",
    "            del ends[in_index+1]\n",
    "            in_index = in_index+1\n",
    "        \n",
    "        time_results.append(comp_end_time)\n",
    "    \n",
    "if __name__ == '__main__':\n",
    "#     input = sys.stdin.read()\n",
    "    n, *data = map(int, input().split())\n",
    "    print(len(optimal_points(data)))\n",
    "    print(optimal_points(segments))"
   ]
  },
  {
   "cell_type": "markdown",
   "metadata": {},
   "source": [
    "### Problem - 6 Maximum Number of Prizes"
   ]
  },
  {
   "cell_type": "code",
   "execution_count": 64,
   "metadata": {},
   "outputs": [
    {
     "name": "stdin",
     "output_type": "stream",
     "text": [
      " 81\n"
     ]
    },
    {
     "name": "stdout",
     "output_type": "stream",
     "text": [
      "12\n",
      "1 2 3 4 5 6 7 8 9 10 11 15 "
     ]
    }
   ],
   "source": [
    "# Uses python3\n",
    "import sys\n",
    "\n",
    "def optimal_summands(n):\n",
    "    summands = []\n",
    "    #write your code here\n",
    "    current_num = n\n",
    "    for summand in range(1, n+1):\n",
    "        current_num = current_num - summand\n",
    "        if current_num not in summands and summand not in summands and current_num != summand:\n",
    "            summands.append(summand)\n",
    "        else:\n",
    "            current_num = current_num + summand\n",
    "        if current_num == 0:\n",
    "            break\n",
    "            \n",
    "            \n",
    "            \n",
    "    return summands\n",
    "\n",
    "if __name__ == '__main__':\n",
    "#     input = sys.stdin.read()\n",
    "    n = int(input())\n",
    "    summands = optimal_summands(n)\n",
    "    print(len(summands))\n",
    "    for x in summands:\n",
    "        print(x, end=' ')"
   ]
  },
  {
   "cell_type": "markdown",
   "metadata": {},
   "source": [
    "### Problem - 7 Maximum Salary"
   ]
  },
  {
   "cell_type": "code",
   "execution_count": 40,
   "metadata": {},
   "outputs": [
    {
     "name": "stdin",
     "output_type": "stream",
     "text": [
      " 2 21 2\n"
     ]
    },
    {
     "name": "stdout",
     "output_type": "stream",
     "text": [
      "212\n"
     ]
    }
   ],
   "source": [
    "#Uses python3\n",
    "\n",
    "import sys\n",
    "\n",
    "def largest_number(a):\n",
    "    #write your code here\n",
    "    main_dict = {}\n",
    "    biggest_num = ''\n",
    "    for num in a:\n",
    "        if str(num)[0] in main_dict:\n",
    "            main_dict[str(num)[0]].append(num)\n",
    "        else:\n",
    "            main_dict[str(num)[0]] = list()\n",
    "            main_dict[str(num)[0]].append(num)\n",
    "    \n",
    "    main_dict = {k: v for k, v in sorted(main_dict.items(), key=lambda item: item[0], reverse = True)}\n",
    "    \n",
    "    for num_list in main_dict.values():\n",
    "        while len(num_list) != 0:\n",
    "            max_num = max(num_list)\n",
    "            #print('max num', max_num)\n",
    "            biggest_num = biggest_num + str(max_num)\n",
    "            del num_list[num_list.index(max_num)]\n",
    "    \n",
    "    return int(biggest_num)\n",
    "\n",
    "if __name__ == '__main__':\n",
    "#     input = sys.stdin.read()\n",
    "    data = input().split()\n",
    "    a = data[1:]\n",
    "    print(largest_number(a))\n",
    "    \n"
   ]
  },
  {
   "cell_type": "code",
   "execution_count": 36,
   "metadata": {},
   "outputs": [
    {
     "data": {
      "text/plain": [
       "{3: 2, 2: 5, 1: 1, 0: 5}"
      ]
     },
     "execution_count": 36,
     "metadata": {},
     "output_type": "execute_result"
    }
   ],
   "source": [
    "a = {}\n",
    "a[1] = 1\n",
    "a[2] = 5\n",
    "a[3] = 2\n",
    "a[0] = 5\n",
    "\n",
    "a = {k: v for k, v in sorted(a.items(), key=lambda item: item[0], reverse = True)}\n",
    "a"
   ]
  }
 ],
 "metadata": {
  "kernelspec": {
   "display_name": "Python 3",
   "language": "python",
   "name": "python3"
  },
  "language_info": {
   "codemirror_mode": {
    "name": "ipython",
    "version": 3
   },
   "file_extension": ".py",
   "mimetype": "text/x-python",
   "name": "python",
   "nbconvert_exporter": "python",
   "pygments_lexer": "ipython3",
   "version": "3.7.4"
  }
 },
 "nbformat": 4,
 "nbformat_minor": 4
}
